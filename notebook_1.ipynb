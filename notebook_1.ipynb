{
 "cells": [
  {
   "cell_type": "markdown",
   "metadata": {},
   "source": [
    "# Part 1: Creating and rendering an environment\n"
   ]
  },
  {
   "cell_type": "markdown",
   "metadata": {},
   "source": [
    "In this notebook, we will see how to create, interact with and render our first railway systems."
   ]
  },
  {
   "cell_type": "markdown",
   "metadata": {},
   "source": [
    "# In a nutshell"
   ]
  },
  {
   "cell_type": "code",
   "execution_count": null,
   "metadata": {},
   "outputs": [],
   "source": [
    "import numpy as np\n",
    "\n",
    "from flatland.envs.rail_env import RailEnv\n",
    "from flatland.envs.rail_generators import rail_from_manual_specifications_generator"
   ]
  },
  {
   "cell_type": "code",
   "execution_count": null,
   "metadata": {},
   "outputs": [],
   "source": [
    "# Fixed railway: hardcoded 2D tuple of (tile type, rotation)\n",
    "specs = [[(0, 0), (0, 0), (0, 0), (0, 0), (0, 0), (0, 0)],\n",
    "         [(0, 0), (0, 0), (0, 0), (0, 0), (7, 0), (0, 0)],\n",
    "         [(7, 270), (1, 90), (1, 90), (1, 90), (2, 90), (7, 90)],\n",
    "         [(0, 0), (0, 0), (0, 0), (0, 0), (0, 0), (0, 0)]]\n",
    "\n",
    "rail_shape = np.array(specs).shape\n",
    "\n",
    "fixed_env = RailEnv(width=rail_shape[1],\n",
    "              height=rail_shape[0],\n",
    "              rail_generator=rail_from_manual_specifications_generator(specs),\n",
    "              number_of_agents=1\n",
    "              )\n",
    "\n",
    "# Call reset() to initialize the env\n",
    "observation = fixed_env.reset()"
   ]
  },
  {
   "cell_type": "code",
   "execution_count": null,
   "metadata": {},
   "outputs": [],
   "source": [
    "\"\"\"\n",
    "For each agent, the observation indicates:\n",
    "- the transition map array\n",
    "- the state of all agents in the environment\n",
    "- the position and targets of all the agents\n",
    "\n",
    "We will see how to derive and use more useful observations in the next part.\n",
    "\"\"\"\n",
    "observation"
   ]
  },
  {
   "cell_type": "code",
   "execution_count": null,
   "metadata": {},
   "outputs": [],
   "source": [
    "import PIL\n",
    "from flatland.utils.rendertools import RenderTool\n",
    "\n",
    "# Render it\n",
    "def render_env(env):\n",
    "    env_renderer = RenderTool(env, gl=\"TKPIL\")\n",
    "    env_renderer.render_env()\n",
    "\n",
    "    image = env_renderer.get_image()\n",
    "    pil_image = PIL.Image.fromarray(image)\n",
    "    display(pil_image)\n",
    "\n",
    "render_env(fixed_env)"
   ]
  },
  {
   "cell_type": "code",
   "execution_count": null,
   "metadata": {},
   "outputs": [],
   "source": [
    "from flatland.envs.rail_generators import random_rail_generator\n",
    "\n",
    "# Random railway: built from list of probability per cell type\n",
    "transition_probability = [1.0,  # empty cell - Case 0\n",
    "                          1.0,  # Case 1 - straight\n",
    "                          1.0,  # Case 2 - simple switch\n",
    "                          0.3,  # Case 3 - diamond drossing\n",
    "                          0.5,  # Case 4 - single slip\n",
    "                          0.5,  # Case 5 - double slip\n",
    "                          0.2,  # Case 6 - symmetrical\n",
    "                          0.0,  # Case 7 - dead end\n",
    "                          0.2,  # Case 8 - turn left\n",
    "                          0.2,  # Case 9 - turn right\n",
    "                          1.0]  # Case 10 - mirrored switch\n",
    "\n",
    "random_env = RailEnv(width=15,\n",
    "              height=15,\n",
    "              rail_generator=random_rail_generator(\n",
    "                        cell_type_relative_proportion=transition_probability\n",
    "                        ),\n",
    "              number_of_agents=1)\n",
    "\n",
    "random_env.reset();"
   ]
  },
  {
   "cell_type": "code",
   "execution_count": null,
   "metadata": {},
   "outputs": [],
   "source": [
    "render_env(random_env)"
   ]
  },
  {
   "cell_type": "markdown",
   "metadata": {},
   "source": [
    "# In more details\n",
    "\n",
    "Let's go through the code above step by step."
   ]
  },
  {
   "cell_type": "markdown",
   "metadata": {},
   "source": [
    "Creating a rail network\n",
    "---"
   ]
  },
  {
   "cell_type": "markdown",
   "metadata": {},
   "source": [
    "There are multiple ways to generate a rail network. The simpler one is to describe it explicitely, as such:"
   ]
  },
  {
   "cell_type": "code",
   "execution_count": null,
   "metadata": {},
   "outputs": [],
   "source": [
    "specs = [[(0, 0), (0, 0), (0, 0), (0, 0), (0, 0), (0, 0)],\n",
    "         [(0, 0), (0, 0), (0, 0), (0, 0), (7, 0), (0, 0)],\n",
    "         [(7, 270), (1, 90), (1, 90), (1, 90), (2, 90), (7, 90)],\n",
    "         [(0, 0), (0, 0), (0, 0), (0, 0), (0, 0), (0, 0)]]"
   ]
  },
  {
   "cell_type": "markdown",
   "metadata": {},
   "source": [
    "`specs` is a 2-dimensional array of tuples:"
   ]
  },
  {
   "cell_type": "code",
   "execution_count": null,
   "metadata": {},
   "outputs": [],
   "source": [
    "import numpy as np\n",
    "\n",
    "rail_shape = np.array(specs).shape\n",
    "rail_shape"
   ]
  },
  {
   "cell_type": "markdown",
   "metadata": {},
   "source": [
    "The `specs` array represent a 4 by 6 2D grid of tuples. In each tuple, the first element represent the **cell type**, and the second the **rotation** of the cell (0, 90, 180 or 270 degrees clockwise).\n",
    "\n",
    "Check `flatland.core.grid.rail_env_grid.RailEnvTransitions` for implementation details."
   ]
  },
  {
   "cell_type": "code",
   "execution_count": null,
   "metadata": {},
   "outputs": [],
   "source": [
    "env = RailEnv(width=rail_shape[1],\n",
    "              height=rail_shape[0],\n",
    "              rail_generator=rail_from_manual_specifications_generator(specs),\n",
    "              number_of_agents=1\n",
    "              )"
   ]
  },
  {
   "cell_type": "markdown",
   "metadata": {},
   "source": [
    "A call to `reset()` is necessary to fully initialize the environment."
   ]
  },
  {
   "cell_type": "code",
   "execution_count": null,
   "metadata": {},
   "outputs": [],
   "source": [
    "observation = env.reset()\n",
    "\n",
    "np.array(observation).shape"
   ]
  },
  {
   "cell_type": "markdown",
   "metadata": {},
   "source": [
    "As usual with gym-like environment, it returns the initial observation as a results."
   ]
  },
  {
   "cell_type": "code",
   "execution_count": null,
   "metadata": {},
   "outputs": [],
   "source": [
    "observation"
   ]
  },
  {
   "cell_type": "markdown",
   "metadata": {},
   "source": [
    "**The observation gives a global overview of the entire rail environment.**\n",
    "\n",
    "It is composed of the following elements:\n",
    "- a transition map array with dimensions (env.height, env.width, 16)\n",
    "- obs_agents_state: A 3D array (map_height, map_width, 5) with\n",
    "    - first channel containing the agents position and direction\n",
    "    - second channel containing the other agents positions and direction\n",
    "    - third channel containing agent/other agent malfunctions\n",
    "    - fourth channel containing agent/other agent fractional speeds\n",
    "    - fifth channel containing number of other agents ready to depart\n",
    "- obs_targets: Two 2D arrays (map_height, map_width, 2) containing respectively the position of the given agent target and the positions of the other agents targets (flag only, no counter!)."
   ]
  },
  {
   "cell_type": "markdown",
   "metadata": {},
   "source": [
    "**That's it!** You have just created your first rail environment. Let's render it to see how it looks."
   ]
  },
  {
   "cell_type": "markdown",
   "metadata": {},
   "source": [
    "Rendering the environment\n",
    "---"
   ]
  },
  {
   "cell_type": "code",
   "execution_count": null,
   "metadata": {},
   "outputs": [],
   "source": [
    "import PIL\n",
    "\n",
    "env_renderer = RenderTool(env, gl=\"TKPIL\")\n",
    "env_renderer.render_env()"
   ]
  },
  {
   "cell_type": "code",
   "execution_count": null,
   "metadata": {},
   "outputs": [],
   "source": [
    "arrImage = env_renderer.get_image()\n",
    "pilImage = PIL.Image.fromarray(arrImage)\n",
    "display(pilImage)"
   ]
  },
  {
   "cell_type": "markdown",
   "metadata": {},
   "source": [
    "Creating a random environment\n",
    "---"
   ]
  },
  {
   "cell_type": "markdown",
   "metadata": {},
   "source": [
    "Alternatively, a random environment can be generated (optionally specifying weights for each cell type to increase or decrease their proportion in the generated rail networks).\n",
    "\n"
   ]
  },
  {
   "cell_type": "code",
   "execution_count": null,
   "metadata": {},
   "outputs": [],
   "source": [
    "# Random railway: built from list of probability per cell type\n",
    "transition_probability = [1.0,  # empty cell - Case 0\n",
    "                          1.0,  # Case 1 - straight\n",
    "                          1.0,  # Case 2 - simple switch\n",
    "                          0.3,  # Case 3 - diamond drossing\n",
    "                          0.5,  # Case 4 - single slip\n",
    "                          0.5,  # Case 5 - double slip\n",
    "                          0.2,  # Case 6 - symmetrical\n",
    "                          0.0,  # Case 7 - dead end\n",
    "                          0.2,  # Case 8 - turn left\n",
    "                          0.2,  # Case 9 - turn right\n",
    "                          1.0]  # Case 10 - mirrored switch\n",
    "\n",
    "random_env = RailEnv(width=15,\n",
    "              height=15,\n",
    "              rail_generator=random_rail_generator(\n",
    "                        cell_type_relative_proportion=transition_probability\n",
    "                        ),\n",
    "              number_of_agents=1)\n",
    "\n",
    "random_env.reset();"
   ]
  },
  {
   "cell_type": "markdown",
   "metadata": {},
   "source": [
    "Animated rendering\n",
    "---"
   ]
  },
  {
   "cell_type": "markdown",
   "metadata": {},
   "source": [
    "We will use [ipycanvas](https://github.com/martinRenou/ipycanvas) to cleanly display the environment in the notebook.\n",
    "Note that Flatland comes with multiple rendering options."
   ]
  },
  {
   "cell_type": "code",
   "execution_count": null,
   "metadata": {},
   "outputs": [],
   "source": [
    "from ipycanvas import Canvas"
   ]
  },
  {
   "cell_type": "code",
   "execution_count": null,
   "metadata": {},
   "outputs": [],
   "source": [
    "env_renderer = render_pil = RenderTool(env, gl=\"PILSVG\",\n",
    "                                       agent_render_variant=AgentRenderVariant.ONE_STEP_BEHIND,\n",
    "                                       show_debug=False,\n",
    "                                       screen_height=1000,  # Adjust these parameters to fit your resolution\n",
    "                                       screen_width=1300)  # Adjust these parameters to fit your resolution\n",
    "\n",
    "env_renderer.reset()"
   ]
  },
  {
   "cell_type": "code",
   "execution_count": null,
   "metadata": {},
   "outputs": [],
   "source": [
    "render_pil.render_env(show=False, show_observations=False, show_predictions=False, show_agents=True)\n",
    "img = render_pil.get_image()\n",
    "\n",
    "canvas = Canvas(size=(img.shape[0], img.shape[1]))\n",
    "canvas.put_image_data(img)"
   ]
  },
  {
   "cell_type": "code",
   "execution_count": null,
   "metadata": {},
   "outputs": [],
   "source": [
    "canvas"
   ]
  },
  {
   "cell_type": "code",
   "execution_count": null,
   "metadata": {},
   "outputs": [],
   "source": []
  },
  {
   "cell_type": "code",
   "execution_count": null,
   "metadata": {},
   "outputs": [],
   "source": []
  },
  {
   "cell_type": "code",
   "execution_count": null,
   "metadata": {},
   "outputs": [],
   "source": []
  },
  {
   "cell_type": "code",
   "execution_count": null,
   "metadata": {},
   "outputs": [],
   "source": []
  }
 ],
 "metadata": {
  "kernelspec": {
   "display_name": "Python 3",
   "language": "python",
   "name": "python3"
  },
  "language_info": {
   "codemirror_mode": {
    "name": "ipython",
    "version": 3
   },
   "file_extension": ".py",
   "mimetype": "text/x-python",
   "name": "python",
   "nbconvert_exporter": "python",
   "pygments_lexer": "ipython3",
   "version": "3.6.9"
  }
 },
 "nbformat": 4,
 "nbformat_minor": 4
}
