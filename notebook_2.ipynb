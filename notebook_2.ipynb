{
  "nbformat": 4,
  "nbformat_minor": 0,
  "metadata": {
    "kernelspec": {
      "display_name": "Python 3",
      "language": "python",
      "name": "python3"
    },
    "language_info": {
      "codemirror_mode": {
        "name": "ipython",
        "version": 3
      },
      "file_extension": ".py",
      "mimetype": "text/x-python",
      "name": "python",
      "nbconvert_exporter": "python",
      "pygments_lexer": "ipython3",
      "version": "3.6.9"
    },
    "colab": {
      "name": "2. Observations",
      "provenance": [],
      "collapsed_sections": [
        "LMpFlrbbc5ok",
        "DaztRPnKDg8d"
      ]
    }
  },
  "cells": [
    {
      "cell_type": "markdown",
      "metadata": {
        "id": "6Y1duQJ1Dg8b",
        "colab_type": "text"
      },
      "source": [
        "# Part 2: Observations\n",
        "\n",
        "One of the main objectives of the Flatland challenge is to find suitable observations to solve the task at hand. \n",
        "\n",
        "In this notebook, we will see the existing observations that can be used, how you can create custom ones, and how to render them visually."
      ]
    },
    {
      "cell_type": "markdown",
      "metadata": {
        "id": "LMpFlrbbc5ok",
        "colab_type": "text"
      },
      "source": [
        "# Setup"
      ]
    },
    {
      "cell_type": "code",
      "metadata": {
        "id": "2UK04eKIDg8f",
        "colab_type": "code",
        "colab": {}
      },
      "source": [
        "# Install Flatland\n",
        "%cd /content\n",
        "!git clone https://gitlab.aicrowd.com/flatland/flatland.git/ --branch 223_UpdateEditor_55_notebooks\n",
        "%cd flatland\n",
        "!pip install -e ."
      ],
      "execution_count": 0,
      "outputs": []
    },
    {
      "cell_type": "code",
      "metadata": {
        "id": "vDCzZEbjDg81",
        "colab_type": "code",
        "colab": {}
      },
      "source": [
        "import PIL\n",
        "from flatland.utils.rendertools import RenderTool\n",
        "\n",
        "def render_env(env):\n",
        "    env_renderer = RenderTool(env, gl=\"PILSVG\")\n",
        "    env_renderer.render_env()\n",
        "\n",
        "    image = env_renderer.get_image()\n",
        "    pil_image = PIL.Image.fromarray(image)\n",
        "    display(pil_image)\n",
        "    return image"
      ],
      "execution_count": 0,
      "outputs": []
    },
    {
      "cell_type": "markdown",
      "metadata": {
        "id": "DaztRPnKDg8d",
        "colab_type": "text"
      },
      "source": [
        "# The big picture"
      ]
    },
    {
      "cell_type": "code",
      "metadata": {
        "id": "TE1VJQipHwmM",
        "colab_type": "code",
        "colab": {}
      },
      "source": [
        "from flatland.envs.rail_generators import random_rail_generator\n",
        "\n",
        "transition_prob = [\n",
        "    1.0,  # Type 0 - empty cell\n",
        "    1.0,  # Type 1 - straight\n",
        "    1.0,  # Type 2 - simple switch\n",
        "    0.3,  # Type 3 - diamond crossing\n",
        "    0.5,  # Type 4 - single slip\n",
        "    0.5,  # Type 5 - double slip\n",
        "    0.2,  # Type 6 - symmetrical\n",
        "    0.0,  # Type 7 - dead end\n",
        "    0.2,  # Type 8 - turn left\n",
        "    0.2,  # Type 9 - turn right\n",
        "    1.0  # Type 10 - mirrored switch\n",
        "]\n",
        "\n",
        "rail_generator = random_rail_generator(cell_type_relative_proportion=transition_prob)"
      ],
      "execution_count": 0,
      "outputs": []
    },
    {
      "cell_type": "code",
      "metadata": {
        "id": "XTve5zayDg8n",
        "colab_type": "code",
        "colab": {}
      },
      "source": [
        "from flatland.core.env_observation_builder import ObservationBuilder\n",
        "\n",
        "# Observations are fully customizable\n",
        "class SimpleObs(ObservationBuilder):\n",
        "    \"\"\"\n",
        "    Simplest observation builder. The object returns observation vectors with 5 identical components,\n",
        "    all equal to the ID of the respective agent.\n",
        "    \"\"\"\n",
        "\n",
        "    def reset(self):\n",
        "        return\n",
        "\n",
        "    def get(self, handle):\n",
        "        observation = handle * np.ones(5)\n",
        "        return observation"
      ],
      "execution_count": 0,
      "outputs": []
    },
    {
      "cell_type": "code",
      "metadata": {
        "id": "5bD-6AbUDg8j",
        "colab_type": "code",
        "colab": {}
      },
      "source": [
        "import pprint\n",
        "import numpy as np\n",
        "from flatland.envs.rail_env import RailEnv\n",
        "\n",
        "# Create a RailEnv that uses SimpleObs\n",
        "env = RailEnv(\n",
        "    width=15,\n",
        "    height=15,\n",
        "    rail_generator=rail_generator,\n",
        "    obs_builder_object=SimpleObs(),\n",
        "    number_of_agents=1\n",
        ")\n",
        "\n",
        "observations, info = env.reset()\n",
        "\n",
        "print('Observations:')\n",
        "pprint.pprint(observations)"
      ],
      "execution_count": 0,
      "outputs": []
    },
    {
      "cell_type": "code",
      "metadata": {
        "id": "MeLwSjkoDg8t",
        "colab_type": "code",
        "colab": {}
      },
      "source": [
        "from flatland.envs.observations import TreeObsForRailEnv\n",
        "from flatland.core.grid.grid4_utils import get_new_position\n",
        "from typing import List\n",
        "\n",
        "# Build observations which indicate the shortest path to the target\n",
        "class SingleAgentNavigationObs(ObservationBuilder):\n",
        "    \"\"\"\n",
        "    We build a representation vector with 3 binary components, indicating which of the 3 available directions\n",
        "    for each agent (Left, Forward, Right) lead to the shortest path to its target.\n",
        "    E.g., if taking the Left branch (if available) is the shortest route to the agent's target, the observation vector\n",
        "    will be [1, 0, 0].\n",
        "    \"\"\"\n",
        "\n",
        "    def __init__(self):\n",
        "        super().__init__()\n",
        "\n",
        "    def reset(self):\n",
        "        pass\n",
        "\n",
        "    def get(self, handle: int = 0) -> List[int]:\n",
        "        agent = self.env.agents[handle]\n",
        "\n",
        "        if agent.position:\n",
        "            possible_transitions = self.env.rail.get_transitions(*agent.position, agent.direction)\n",
        "        else:\n",
        "            possible_transitions = self.env.rail.get_transitions(*agent.initial_position, agent.direction)\n",
        "\n",
        "        num_transitions = np.count_nonzero(possible_transitions)\n",
        "\n",
        "        # Start from the current orientation, and see which transitions are available;\n",
        "        # organize them as [left, forward, right], relative to the current orientation\n",
        "        # If only one transition is possible, the forward branch is aligned with it.\n",
        "        if num_transitions == 1:\n",
        "            observation = [0, 1, 0]\n",
        "        else:\n",
        "            min_distances = []\n",
        "            for direction in [(agent.direction + i) % 4 for i in range(-1, 2)]:\n",
        "                if possible_transitions[direction]:\n",
        "                    new_position = get_new_position(agent.position, direction)\n",
        "                    min_distances.append(\n",
        "                        self.env.distance_map.get()[handle, new_position[0], new_position[1], direction])\n",
        "                else:\n",
        "                    min_distances.append(np.inf)\n",
        "\n",
        "            observation = [0, 0, 0]\n",
        "            observation[np.argmin(min_distances)] = 1\n",
        "\n",
        "        return observation"
      ],
      "execution_count": 0,
      "outputs": []
    },
    {
      "cell_type": "code",
      "metadata": {
        "colab_type": "code",
        "id": "M4rPTtNcmKYB",
        "colab": {}
      },
      "source": [
        "# Create a RailEnv that uses SingleAgentNavigationObs\n",
        "env = RailEnv(\n",
        "    width=20,\n",
        "    height=20,\n",
        "    rail_generator=random_rail_generator(),\n",
        "    number_of_agents=1,\n",
        "    obs_builder_object=SingleAgentNavigationObs()\n",
        ")\n",
        "\n",
        "obs, info = env.reset()"
      ],
      "execution_count": 0,
      "outputs": []
    },
    {
      "cell_type": "code",
      "metadata": {
        "id": "suScWRoXDg87",
        "colab_type": "code",
        "colab": {}
      },
      "source": [
        "action_to_direction = {0: 'no-op', 1: 'left', 2: 'forward', 3: 'right', 4: 'halt'}\n",
        "\n",
        "print(\"Directions of shortest paths\")\n",
        "for agent_handle in obs:\n",
        "    for idx, shortest in enumerate(obs[agent_handle]):\n",
        "        if shortest:\n",
        "            action = np.argmax(obs[0]) + 1\n",
        "            print('- Agent {}: {}'.format(agent_handle, action_to_direction[action]))"
      ],
      "execution_count": 0,
      "outputs": []
    },
    {
      "cell_type": "code",
      "metadata": {
        "id": "5CcqoV-KDg8_",
        "colab_type": "code",
        "colab": {}
      },
      "source": [
        "from IPython.display import clear_output\n",
        "\n",
        "obs, info = env.reset()\n",
        "\n",
        "# Move in a direction that is on a shortest path\n",
        "# This results in an optimal policy if and only if there is a single agent!\n",
        "for step in range(150):\n",
        "    obs, all_rewards, done, _ = env.step({0: action})\n",
        "    action = np.argmax(obs[0]) + 1\n",
        "\n",
        "    clear_output(wait=True)\n",
        "    render_env(env)\n",
        "\n",
        "    print(\"Timestep: {}\".format(step))\n",
        "    print(\"Action: {} ({})\".format(action, action_to_direction[action]))\n",
        "    print(\"Rewards: {}\".format(all_rewards))\n",
        "    print(\"Done: {}\".format(done))\n",
        "\n",
        "    if done['__all__']:\n",
        "        print(\"All done!\")\n",
        "        break"
      ],
      "execution_count": 0,
      "outputs": []
    }
  ]
}