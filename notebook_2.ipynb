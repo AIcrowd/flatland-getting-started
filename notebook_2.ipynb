{
 "cells": [
  {
   "cell_type": "markdown",
   "metadata": {},
   "source": [
    "# Part 2: Observations & Predictions\n",
    "\n",
    "In this notebook, we will see how you can select and use observations and predictions."
   ]
  },
  {
   "cell_type": "markdown",
   "metadata": {},
   "source": [
    "# In a nutshell"
   ]
  },
  {
   "cell_type": "code",
   "execution_count": null,
   "metadata": {},
   "outputs": [],
   "source": [
    "# Install Flatland\n",
    "!git clone https://gitlab.aicrowd.com/flatland/flatland.git/ --branch 223_UpdateEditor_55_notebooks\n",
    "%cd flatland\n",
    "!pip install -e .\n",
    "!pip install imageio"
   ]
  },
  {
   "cell_type": "code",
   "execution_count": null,
   "metadata": {},
   "outputs": [],
   "source": [
    "import numpy as np\n",
    "\n",
    "from flatland.envs.rail_env import RailEnv\n",
    "from flatland.envs.rail_generators import rail_from_manual_specifications_generator"
   ]
  },
  {
   "cell_type": "code",
   "execution_count": null,
   "metadata": {},
   "outputs": [],
   "source": [
    "from flatland.core.env_observation_builder import ObservationBuilder\n",
    "\n",
    "# Observations are fully customizable\n",
    "class SimpleObs(ObservationBuilder):\n",
    "    \"\"\"\n",
    "    Simplest observation builder. The object returns observation vectors with 5 identical components,\n",
    "    all equal to the ID of the respective agent.\n",
    "    \"\"\"\n",
    "\n",
    "    def reset(self):\n",
    "        return\n",
    "\n",
    "    def get(self, handle):\n",
    "        observation = handle * np.ones(5)\n",
    "        return observation"
   ]
  },
  {
   "cell_type": "code",
   "execution_count": null,
   "metadata": {},
   "outputs": [],
   "source": [
    "# Create a fixed railway from a 2D array of (tile type, rotation) tuples\n",
    "specs = [[(0, 0), (0, 0), (0, 0), (0, 0), (0, 0), (0, 0)],\n",
    "         [(0, 0), (0, 0), (0, 0), (0, 0), (7, 0), (0, 0)],\n",
    "         [(7, 270), (1, 90), (1, 90), (1, 90), (2, 90), (7, 90)],\n",
    "         [(0, 0), (0, 0), (0, 0), (0, 0), (0, 0), (0, 0)]]\n",
    "\n",
    "rail_shape = np.array(specs).shape\n",
    "\n",
    "fixed_env = RailEnv(width=rail_shape[1],\n",
    "              height=rail_shape[0],\n",
    "              rail_generator=rail_from_manual_specifications_generator(specs),\n",
    "              number_of_agents=1,\n",
    "                obs_builder_object=SimpleObs()\n",
    "              )\n",
    "\n",
    "# Call reset() to initialize the env\n",
    "observation = fixed_env.reset()\n",
    "\n",
    "agent_handle = 0\n",
    "print('Agent {} observations:'.format(agent_handle))\n",
    "agent_obs = observation[0][agent_handle]\n",
    "\n",
    "agent_obs"
   ]
  },
  {
   "cell_type": "code",
   "execution_count": null,
   "metadata": {},
   "outputs": [],
   "source": [
    "from flatland.envs.observations import TreeObsForRailEnv\n",
    "from flatland.core.grid.grid4_utils import get_new_position\n",
    "from typing import List\n",
    "\n",
    "class SingleAgentNavigationObs(ObservationBuilder):\n",
    "    \"\"\"\n",
    "    We build a representation vector with 3 binary components, indicating which of the 3 available directions\n",
    "    for each agent (Left, Forward, Right) lead to the shortest path to its target.\n",
    "    E.g., if taking the Left branch (if available) is the shortest route to the agent's target, the observation vector\n",
    "    will be [1, 0, 0].\n",
    "    \"\"\"\n",
    "\n",
    "    def __init__(self):\n",
    "        super().__init__()\n",
    "\n",
    "    def reset(self):\n",
    "        pass\n",
    "\n",
    "    def get(self, handle: int = 0) -> List[int]:\n",
    "        agent = self.env.agents[handle]\n",
    "\n",
    "        if agent.position:\n",
    "            possible_transitions = self.env.rail.get_transitions(*agent.position, agent.direction)\n",
    "        else:\n",
    "            possible_transitions = self.env.rail.get_transitions(*agent.initial_position, agent.direction)\n",
    "\n",
    "        num_transitions = np.count_nonzero(possible_transitions)\n",
    "\n",
    "        # Start from the current orientation, and see which transitions are available;\n",
    "        # organize them as [left, forward, right], relative to the current orientation\n",
    "        # If only one transition is possible, the forward branch is aligned with it.\n",
    "        if num_transitions == 1:\n",
    "            observation = [0, 1, 0]\n",
    "        else:\n",
    "            min_distances = []\n",
    "            for direction in [(agent.direction + i) % 4 for i in range(-1, 2)]:\n",
    "                if possible_transitions[direction]:\n",
    "                    new_position = get_new_position(agent.position, direction)\n",
    "                    min_distances.append(\n",
    "                        self.env.distance_map.get()[handle, new_position[0], new_position[1], direction])\n",
    "                else:\n",
    "                    min_distances.append(np.inf)\n",
    "\n",
    "            observation = [0, 0, 0]\n",
    "            observation[np.argmin(min_distances)] = 1\n",
    "\n",
    "        return observation"
   ]
  },
  {
   "cell_type": "code",
   "execution_count": null,
   "metadata": {},
   "outputs": [],
   "source": [
    "from flatland.envs.rail_generators import complex_rail_generator\n",
    "\n",
    "rails_generator = complex_rail_generator(nr_start_goal=5, nr_extra=1, min_dist=8, max_dist=99999,seed=1)\n",
    "\n",
    "env = RailEnv(width=10, height=10,\n",
    "              rail_generator=rails_generator, \n",
    "              number_of_agents=1, \n",
    "              obs_builder_object=SingleAgentNavigationObs())\n",
    "\n",
    "obs, info = env.reset()"
   ]
  },
  {
   "cell_type": "code",
   "execution_count": null,
   "metadata": {},
   "outputs": [],
   "source": [
    "import PIL\n",
    "from flatland.utils.rendertools import RenderTool\n",
    "\n",
    "# Render the environment\n",
    "def render_env(env):\n",
    "    env_renderer = RenderTool(env, gl=\"PILSVG\")\n",
    "    env_renderer.render_env()\n",
    "\n",
    "    image = env_renderer.get_image()\n",
    "    pil_image = PIL.Image.fromarray(image)\n",
    "    display(pil_image)\n",
    "    return image"
   ]
  },
  {
   "cell_type": "code",
   "execution_count": null,
   "metadata": {},
   "outputs": [],
   "source": [
    "render_env(env);"
   ]
  },
  {
   "cell_type": "code",
   "execution_count": null,
   "metadata": {},
   "outputs": [],
   "source": [
    "directions = {0: 'left', 1: 'forward', 2: 'right'}\n",
    "\n",
    "print(\"Directions of shortest paths\")\n",
    "\n",
    "# direction of the shortest path\n",
    "def directions_on_shortest_paths(obs):\n",
    "    for agent_handle in obs:\n",
    "        shortest_directions = \"\"\n",
    "        for idx, shortest in enumerate(obs[agent_handle]):\n",
    "            if shortest:\n",
    "                shortest_directions += directions[idx]\n",
    "\n",
    "        print('Agent {}: {}'.format(agent_handle, shortest_directions))\n",
    "    \n",
    "directions_on_shortest_paths(obs)\n"
   ]
  },
  {
   "cell_type": "code",
   "execution_count": null,
   "metadata": {},
   "outputs": [],
   "source": [
    "from IPython.display import clear_output\n",
    "\n",
    "obs = env.reset()\n",
    "\n",
    "# act in a direction that is on a shortest path\n",
    "for step in range(150):\n",
    "    action = np.argmax(obs[0])+1\n",
    "    \n",
    "    obs, all_rewards, done, _ = env.step({0: action})\n",
    "    directions_on_shortest_paths(obs)\n",
    "    print(\"Action: \", action, \"Rewards: \", all_rewards, \"  [done=\", done, \"]\")\n",
    "    \n",
    "    clear_output(wait=True)\n",
    "    render_env(env)\n",
    "    \n",
    "    if done['__all__']:\n",
    "        print(\"All done!\")\n",
    "        break"
   ]
  },
  {
   "cell_type": "code",
   "execution_count": null,
   "metadata": {},
   "outputs": [],
   "source": [
    "import imageio\n",
    "from IPython.display import clear_output, Image\n",
    "\n",
    "anim_path = 'assets/movie.gif'\n",
    "\n",
    "obs = env.reset()\n",
    "\n",
    "with imageio.get_writer(anim_path, mode='I') as writer:\n",
    "\n",
    "    # act in a direction that is on a shortest path\n",
    "    for step in range(150):\n",
    "        action = np.argmax(obs[0])+1\n",
    "\n",
    "        obs, all_rewards, done, _ = env.step({0: action})\n",
    "        directions_on_shortest_paths(obs)\n",
    "        print(\"Action: \", action, \"Rewards: \", all_rewards, \"  [done=\", done, \"]\")\n",
    "\n",
    "        clear_output(wait=True)\n",
    "        image = render_env(env)\n",
    "        \n",
    "        writer.append_data(image)\n",
    "\n",
    "        if done['__all__']:\n",
    "            clear_output(wait=True)\n",
    "            print(\"All done!\")\n",
    "            break\n",
    "\n",
    "Image(url=anim_path)"
   ]
  },
  {
   "cell_type": "markdown",
   "metadata": {},
   "source": [
    "Animated rendering\n",
    "---"
   ]
  },
  {
   "cell_type": "markdown",
   "metadata": {},
   "source": [
    "We will use [ipycanvas](https://github.com/martinRenou/ipycanvas) to cleanly display the environment in the notebook.\n",
    "Note that Flatland comes with multiple rendering options."
   ]
  },
  {
   "cell_type": "code",
   "execution_count": null,
   "metadata": {},
   "outputs": [],
   "source": [
    "from ipycanvas import Canvas"
   ]
  },
  {
   "cell_type": "code",
   "execution_count": null,
   "metadata": {},
   "outputs": [],
   "source": [
    "from flatland.utils.rendertools import AgentRenderVariant\n",
    "\n",
    "env_renderer = render_pil = RenderTool(env, gl=\"PILSVG\",\n",
    "                                       agent_render_variant=AgentRenderVariant.ONE_STEP_BEHIND,\n",
    "                                       show_debug=False,\n",
    "                                       screen_height=1000,  # Adjust these parameters to fit your resolution\n",
    "                                       screen_width=1300)  # Adjust these parameters to fit your resolution\n",
    "\n",
    "env_renderer.reset()"
   ]
  },
  {
   "cell_type": "code",
   "execution_count": null,
   "metadata": {},
   "outputs": [],
   "source": [
    "render_pil.render_env(show=False, show_observations=False, show_predictions=False, show_agents=True)\n",
    "img = render_pil.get_image()\n",
    "\n",
    "canvas = Canvas(size=(img.shape[0], img.shape[1]))\n",
    "canvas.put_image_data(img)"
   ]
  },
  {
   "cell_type": "code",
   "execution_count": null,
   "metadata": {},
   "outputs": [],
   "source": [
    "canvas"
   ]
  }
 ],
 "metadata": {
  "kernelspec": {
   "display_name": "Python 3",
   "language": "python",
   "name": "python3"
  },
  "language_info": {
   "codemirror_mode": {
    "name": "ipython",
    "version": 3
   },
   "file_extension": ".py",
   "mimetype": "text/x-python",
   "name": "python",
   "nbconvert_exporter": "python",
   "pygments_lexer": "ipython3",
   "version": "3.6.9"
  }
 },
 "nbformat": 4,
 "nbformat_minor": 4
}
